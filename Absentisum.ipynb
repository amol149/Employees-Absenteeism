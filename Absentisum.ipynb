{
 "cells": [
  {
   "cell_type": "markdown",
   "metadata": {},
   "source": [
    "## Absentisum Machine Learning Problem"
   ]
  },
  {
   "cell_type": "code",
   "execution_count": 217,
   "metadata": {},
   "outputs": [],
   "source": [
    "#load Packages\n",
    "import pandas as pd\n",
    "import numpy as np\n",
    "import matplotlib.pyplot as plt\n",
    "import seaborn as sns\n",
    "from scipy.stats import norm\n",
    "import os\n",
    "import csv\n",
    "\n",
    "#Ignore Warnings\n",
    "import warnings\n",
    "warnings.filterwarnings('ignore')"
   ]
  },
  {
   "cell_type": "code",
   "execution_count": 218,
   "metadata": {},
   "outputs": [],
   "source": [
    "#change working Directory\n",
    "os.chdir('D:\\Python Basics\\Pycharm\\Employee_Absentisum')"
   ]
  },
  {
   "cell_type": "code",
   "execution_count": 219,
   "metadata": {},
   "outputs": [
    {
     "data": {
      "text/html": [
       "<div>\n",
       "<style scoped>\n",
       "    .dataframe tbody tr th:only-of-type {\n",
       "        vertical-align: middle;\n",
       "    }\n",
       "\n",
       "    .dataframe tbody tr th {\n",
       "        vertical-align: top;\n",
       "    }\n",
       "\n",
       "    .dataframe thead th {\n",
       "        text-align: right;\n",
       "    }\n",
       "</style>\n",
       "<table border=\"1\" class=\"dataframe\">\n",
       "  <thead>\n",
       "    <tr style=\"text-align: right;\">\n",
       "      <th></th>\n",
       "      <th>ID</th>\n",
       "      <th>Reason for absence</th>\n",
       "      <th>Month of absence</th>\n",
       "      <th>Day of the week</th>\n",
       "      <th>Seasons</th>\n",
       "      <th>Transportation expense</th>\n",
       "      <th>Distance from Residence to Work</th>\n",
       "      <th>Service time</th>\n",
       "      <th>Age</th>\n",
       "      <th>Work load Average/day</th>\n",
       "      <th>...</th>\n",
       "      <th>Disciplinary failure</th>\n",
       "      <th>Education</th>\n",
       "      <th>Son</th>\n",
       "      <th>Social drinker</th>\n",
       "      <th>Social smoker</th>\n",
       "      <th>Pet</th>\n",
       "      <th>Weight</th>\n",
       "      <th>Height</th>\n",
       "      <th>Body mass index</th>\n",
       "      <th>Absenteeism time in hours</th>\n",
       "    </tr>\n",
       "  </thead>\n",
       "  <tbody>\n",
       "    <tr>\n",
       "      <th>0</th>\n",
       "      <td>11</td>\n",
       "      <td>26.0</td>\n",
       "      <td>7.0</td>\n",
       "      <td>3</td>\n",
       "      <td>1</td>\n",
       "      <td>289.0</td>\n",
       "      <td>36.0</td>\n",
       "      <td>13.0</td>\n",
       "      <td>33.0</td>\n",
       "      <td>239554.0</td>\n",
       "      <td>...</td>\n",
       "      <td>0.0</td>\n",
       "      <td>1.0</td>\n",
       "      <td>2.0</td>\n",
       "      <td>1.0</td>\n",
       "      <td>0.0</td>\n",
       "      <td>1.0</td>\n",
       "      <td>90.0</td>\n",
       "      <td>172.0</td>\n",
       "      <td>30.0</td>\n",
       "      <td>4.0</td>\n",
       "    </tr>\n",
       "    <tr>\n",
       "      <th>1</th>\n",
       "      <td>36</td>\n",
       "      <td>0.0</td>\n",
       "      <td>7.0</td>\n",
       "      <td>3</td>\n",
       "      <td>1</td>\n",
       "      <td>118.0</td>\n",
       "      <td>13.0</td>\n",
       "      <td>18.0</td>\n",
       "      <td>50.0</td>\n",
       "      <td>239554.0</td>\n",
       "      <td>...</td>\n",
       "      <td>1.0</td>\n",
       "      <td>1.0</td>\n",
       "      <td>1.0</td>\n",
       "      <td>1.0</td>\n",
       "      <td>0.0</td>\n",
       "      <td>0.0</td>\n",
       "      <td>98.0</td>\n",
       "      <td>178.0</td>\n",
       "      <td>31.0</td>\n",
       "      <td>0.0</td>\n",
       "    </tr>\n",
       "    <tr>\n",
       "      <th>2</th>\n",
       "      <td>3</td>\n",
       "      <td>23.0</td>\n",
       "      <td>7.0</td>\n",
       "      <td>4</td>\n",
       "      <td>1</td>\n",
       "      <td>179.0</td>\n",
       "      <td>51.0</td>\n",
       "      <td>18.0</td>\n",
       "      <td>38.0</td>\n",
       "      <td>239554.0</td>\n",
       "      <td>...</td>\n",
       "      <td>0.0</td>\n",
       "      <td>1.0</td>\n",
       "      <td>0.0</td>\n",
       "      <td>1.0</td>\n",
       "      <td>0.0</td>\n",
       "      <td>0.0</td>\n",
       "      <td>89.0</td>\n",
       "      <td>170.0</td>\n",
       "      <td>31.0</td>\n",
       "      <td>2.0</td>\n",
       "    </tr>\n",
       "    <tr>\n",
       "      <th>3</th>\n",
       "      <td>7</td>\n",
       "      <td>7.0</td>\n",
       "      <td>7.0</td>\n",
       "      <td>5</td>\n",
       "      <td>1</td>\n",
       "      <td>279.0</td>\n",
       "      <td>5.0</td>\n",
       "      <td>14.0</td>\n",
       "      <td>39.0</td>\n",
       "      <td>239554.0</td>\n",
       "      <td>...</td>\n",
       "      <td>0.0</td>\n",
       "      <td>1.0</td>\n",
       "      <td>2.0</td>\n",
       "      <td>1.0</td>\n",
       "      <td>1.0</td>\n",
       "      <td>0.0</td>\n",
       "      <td>68.0</td>\n",
       "      <td>168.0</td>\n",
       "      <td>24.0</td>\n",
       "      <td>4.0</td>\n",
       "    </tr>\n",
       "    <tr>\n",
       "      <th>4</th>\n",
       "      <td>11</td>\n",
       "      <td>23.0</td>\n",
       "      <td>7.0</td>\n",
       "      <td>5</td>\n",
       "      <td>1</td>\n",
       "      <td>289.0</td>\n",
       "      <td>36.0</td>\n",
       "      <td>13.0</td>\n",
       "      <td>33.0</td>\n",
       "      <td>239554.0</td>\n",
       "      <td>...</td>\n",
       "      <td>0.0</td>\n",
       "      <td>1.0</td>\n",
       "      <td>2.0</td>\n",
       "      <td>1.0</td>\n",
       "      <td>0.0</td>\n",
       "      <td>1.0</td>\n",
       "      <td>90.0</td>\n",
       "      <td>172.0</td>\n",
       "      <td>30.0</td>\n",
       "      <td>2.0</td>\n",
       "    </tr>\n",
       "  </tbody>\n",
       "</table>\n",
       "<p>5 rows × 21 columns</p>\n",
       "</div>"
      ],
      "text/plain": [
       "   ID  Reason for absence  Month of absence  Day of the week  Seasons  \\\n",
       "0  11                26.0               7.0                3        1   \n",
       "1  36                 0.0               7.0                3        1   \n",
       "2   3                23.0               7.0                4        1   \n",
       "3   7                 7.0               7.0                5        1   \n",
       "4  11                23.0               7.0                5        1   \n",
       "\n",
       "   Transportation expense  Distance from Residence to Work  Service time  \\\n",
       "0                   289.0                             36.0          13.0   \n",
       "1                   118.0                             13.0          18.0   \n",
       "2                   179.0                             51.0          18.0   \n",
       "3                   279.0                              5.0          14.0   \n",
       "4                   289.0                             36.0          13.0   \n",
       "\n",
       "    Age  Work load Average/day   ...  Disciplinary failure  Education  Son  \\\n",
       "0  33.0                239554.0  ...                   0.0        1.0  2.0   \n",
       "1  50.0                239554.0  ...                   1.0        1.0  1.0   \n",
       "2  38.0                239554.0  ...                   0.0        1.0  0.0   \n",
       "3  39.0                239554.0  ...                   0.0        1.0  2.0   \n",
       "4  33.0                239554.0  ...                   0.0        1.0  2.0   \n",
       "\n",
       "   Social drinker  Social smoker  Pet  Weight  Height  Body mass index  \\\n",
       "0             1.0            0.0  1.0    90.0   172.0             30.0   \n",
       "1             1.0            0.0  0.0    98.0   178.0             31.0   \n",
       "2             1.0            0.0  0.0    89.0   170.0             31.0   \n",
       "3             1.0            1.0  0.0    68.0   168.0             24.0   \n",
       "4             1.0            0.0  1.0    90.0   172.0             30.0   \n",
       "\n",
       "   Absenteeism time in hours  \n",
       "0                        4.0  \n",
       "1                        0.0  \n",
       "2                        2.0  \n",
       "3                        4.0  \n",
       "4                        2.0  \n",
       "\n",
       "[5 rows x 21 columns]"
      ]
     },
     "execution_count": 219,
     "metadata": {},
     "output_type": "execute_result"
    }
   ],
   "source": [
    "#Load Data\n",
    "df = pd.read_excel('Absenteeism_at_work.xls')\n",
    "df.shape\n",
    "df.head()"
   ]
  },
  {
   "cell_type": "code",
   "execution_count": null,
   "metadata": {
    "scrolled": true
   },
   "outputs": [],
   "source": [
    "#Rename Column\n",
    "df.rename(columns=({'Work load Average/day ': 'Work load Average per day'}), inplace=True)\n",
    "df.head()"
   ]
  },
  {
   "cell_type": "code",
   "execution_count": null,
   "metadata": {
    "scrolled": false
   },
   "outputs": [],
   "source": [
    "#Missing Value DataFrame\n",
    "miss_value = pd.DataFrame({'Actual_value' : df.isnull().sum(),\n",
    "                           'Miss_Percentage': (df.isnull().sum()/len(df)*100),\n",
    "                           'Data_Types' : df.dtypes}).sort_values('Actual_value', ascending=True)\n",
    "miss_value"
   ]
  },
  {
   "cell_type": "code",
   "execution_count": 77,
   "metadata": {},
   "outputs": [],
   "source": [
    "num = ['Distance from Residence to Work', 'Service time', 'Age','Work load Average per day','Transportation expense',\n",
    "       'Hit target', 'Son', 'Pet', 'Weight', 'Height', 'Body mass index']"
   ]
  },
  {
   "cell_type": "code",
   "execution_count": null,
   "metadata": {},
   "outputs": [],
   "source": [
    "cat = list(set(df.columns) - set(num))\n",
    "cat"
   ]
  },
  {
   "cell_type": "code",
   "execution_count": 79,
   "metadata": {},
   "outputs": [],
   "source": [
    "#Imputing missing value\n",
    "#for var in cat:\n",
    "#     df[var].fillna(df[var].mode(), inplace=True)\n",
    "\n",
    "#Mean = 79.05\n",
    "#median = 83\n",
    "\n",
    "#df['Weight'].loc[70] #= np.nan\n",
    "\n",
    "\n",
    "#Imputing Missing Values\n",
    "from sklearn.impute import SimpleImputer\n",
    "impute_cat = SimpleImputer(missing_values=np.nan, strategy='most_frequent')\n",
    "impute_cat = impute_cat.fit(df[cat])\n",
    "df[cat] = impute_cat.transform(df[cat])\n",
    "impute_num = SimpleImputer(missing_values=np.nan, strategy='median')\n",
    "impute_num = impute_num.fit(df[num])\n",
    "df[num] = impute_num.transform(df[num])\n"
   ]
  },
  {
   "cell_type": "code",
   "execution_count": null,
   "metadata": {},
   "outputs": [],
   "source": [
    "#find out no of categories in column\n",
    "for i in cat:\n",
    "    print(i, ':', len(df[i].unique()), 'labels')"
   ]
  },
  {
   "cell_type": "code",
   "execution_count": null,
   "metadata": {},
   "outputs": [],
   "source": [
    "# Box Plot for Every Numerical Variable\n",
    "fig = plt.figure(figsize=(13,13))\n",
    "for i, var_name in enumerate(num):\n",
    "    ax= fig.add_subplot(5,3, i+1)\n",
    "    flierprops = dict(marker='.', markersize=6, markerfacecolor='black')\n",
    "    df.boxplot(column=var_name, ax=ax, flierprops=flierprops, fontsize=12)\n",
    "plt.tight_layout()\n",
    "plt.savefig('boxplot.png')\n",
    "plt.show()"
   ]
  },
  {
   "cell_type": "code",
   "execution_count": null,
   "metadata": {},
   "outputs": [],
   "source": [
    "### Corelation Plot(HeatMap)\n",
    "mask = np.zeros_like(df[num].corr())\n",
    "traingle_indices = np.triu_indices_from(mask)\n",
    "mask[traingle_indices] = True\n",
    "plt.figure(figsize=(10,8))\n",
    "sns.heatmap(round(df[num].corr(), 2), mask = mask, annot=True, annot_kws={'size': 14}, linewidths=1.6)\n",
    "plt.xticks()\n",
    "plt.yticks()\n",
    "plt.tight_layout()\n",
    "plt.savefig('heatmap.png')\n",
    "plt.show()"
   ]
  },
  {
   "cell_type": "code",
   "execution_count": null,
   "metadata": {},
   "outputs": [],
   "source": [
    "# Histogram plot for all numerical variable\n",
    "fig = plt.figure(figsize=(12,12))\n",
    "for i, var_name in enumerate(num):\n",
    "    mu, std = norm.fit(df[var_name])\n",
    "    ax = fig.add_subplot(5, 3, i+1)\n",
    "    df[var_name].hist(density= True, color= 'w', edgecolor= 'b',linewidth = 2, ax= ax)\n",
    "    xmin, xmax = min(df[var_name]), max(df[var_name])\n",
    "    x = np.linspace(xmin, xmax, 100)\n",
    "    p = norm.pdf(x, mu, std)\n",
    "    ax.plot(x, p , 'r', linewidth = 2)\n",
    "    ax.set_title(var_name, fontsize=12)\n",
    "fig.tight_layout()\n",
    "plt.savefig('hist_norms.png')\n",
    "plt.show()\n"
   ]
  },
  {
   "cell_type": "code",
   "execution_count": 84,
   "metadata": {},
   "outputs": [],
   "source": [
    "# Outlier removal\n",
    "def outlier_removal(df, cols):\n",
    "    for i in cols:\n",
    "        print(i)\n",
    "        q75, q25 = np.percentile(df.loc[:, i], [75, 25])\n",
    "        IQR = q75 - q25\n",
    "        min_value = q25 - (1.5 * IQR)\n",
    "        max_value = q75 + (1.5 * IQR)\n",
    "        print(q75,q25, IQR, min_value, max_value)\n",
    "        df = df.drop(df[df.loc[:, i] < min_value].index)\n",
    "        df = df.drop(df[df.loc[:, i] > max_value].index)\n",
    "        print(df.shape[0])\n",
    "    return df"
   ]
  },
  {
   "cell_type": "code",
   "execution_count": null,
   "metadata": {},
   "outputs": [],
   "source": [
    "df.isnull().sum()"
   ]
  },
  {
   "cell_type": "code",
   "execution_count": null,
   "metadata": {},
   "outputs": [],
   "source": [
    "cat_dummies = cat\n",
    "cat_dummies.pop(1)\n",
    "cat_dummies\n",
    "\n",
    "df.columns"
   ]
  },
  {
   "cell_type": "code",
   "execution_count": 134,
   "metadata": {},
   "outputs": [],
   "source": [
    "df = pd.get_dummies(columns=cat_dummies, data=df)"
   ]
  },
  {
   "cell_type": "code",
   "execution_count": null,
   "metadata": {},
   "outputs": [],
   "source": [
    "df.columns"
   ]
  },
  {
   "cell_type": "code",
   "execution_count": 157,
   "metadata": {},
   "outputs": [],
   "source": [
    "X = df.drop(['Absenteeism time in hours', 'ID'], axis=1).values\n",
    "y = df['Absenteeism time in hours'].values.reshape(-1, 1)"
   ]
  },
  {
   "cell_type": "code",
   "execution_count": 158,
   "metadata": {},
   "outputs": [],
   "source": [
    "# from sklearn.preprocessing import StandardScaler\n",
    "# scalar = StandardScaler()\n",
    "# X_train = scalar.fit_transform(X_train)\n",
    "# y_test = scalar.transform(y_train)\n",
    "from sklearn.preprocessing import StandardScaler\n",
    "sc_X = StandardScaler()\n",
    "sc_y = StandardScaler()\n",
    "X = sc_X.fit_transform(X)\n",
    "y = sc_y.fit_transform(y)"
   ]
  },
  {
   "cell_type": "code",
   "execution_count": 159,
   "metadata": {},
   "outputs": [],
   "source": [
    "from sklearn.model_selection import train_test_split\n",
    "X_train, X_test,y_train, y_test = train_test_split(X, y,  test_size = 0.20, random_state=2)"
   ]
  },
  {
   "cell_type": "code",
   "execution_count": null,
   "metadata": {},
   "outputs": [],
   "source": [
    "#cross_check splitting\n",
    "print(len(X_train)/len(df)*100)\n",
    "print(len(X_test)/len(df)*100)\n",
    "print(len(y_train)/len(df)*100)\n",
    "print(len(y_test)/len(df)*100)"
   ]
  },
  {
   "cell_type": "markdown",
   "metadata": {},
   "source": [
    "### Linear Regression"
   ]
  },
  {
   "cell_type": "code",
   "execution_count": 161,
   "metadata": {},
   "outputs": [],
   "source": [
    "from sklearn.metrics import mean_squared_error\n",
    "from sklearn.linear_model import LinearRegression\n",
    "LR = LinearRegression()\n",
    "LR.fit(X_train, y_train)\n",
    "predict_LR_train = LR.predict(X_train)\n",
    "predict_LR_test = LR.predict(X_test)"
   ]
  },
  {
   "cell_type": "code",
   "execution_count": 192,
   "metadata": {},
   "outputs": [
    {
     "name": "stdout",
     "output_type": "stream",
     "text": [
      "Root Mean Squared Error of Linear Regression training dataset is  0.8500601394833728\n",
      "Root Mean Squared Error of Linear Regression testing dataset is  9424537775103.758\n"
     ]
    }
   ],
   "source": [
    "#print('Mean Squared Error of Linear Regression of training dataset is ', mean_squared_error(y_train, predict_LR_train))\n",
    "print('Root Mean Squared Error of Linear Regression training dataset is ', np.sqrt(mean_squared_error(y_train, predict_LR_train)))\n",
    "#print('Mean Squared Error of Linear Regression of testing dataset is ', mean_squared_error(y_test, predict_LR_test))\n",
    "print('Root Mean Squared Error of Linear Regression testing dataset is ', np.sqrt(mean_squared_error(y_test, predict_LR_test)))\n",
    "l_train = np.sqrt(mean_squared_error(y_train, predict_LR_train))\n",
    "l_test = np.sqrt(mean_squared_error(y_test, predict_LR_test))"
   ]
  },
  {
   "cell_type": "markdown",
   "metadata": {},
   "source": [
    "### Support Vector Regression"
   ]
  },
  {
   "cell_type": "code",
   "execution_count": 165,
   "metadata": {},
   "outputs": [],
   "source": [
    "from sklearn.svm import SVR\n",
    "svr = SVR(kernel='linear')\n",
    "svr.fit(X_train, y_train)\n",
    "predict_svr_train = svr.predict(X_train)\n",
    "predict_svr_test = svr.predict(X_test)"
   ]
  },
  {
   "cell_type": "code",
   "execution_count": 193,
   "metadata": {},
   "outputs": [
    {
     "name": "stdout",
     "output_type": "stream",
     "text": [
      "Root Mean Squared Error of Support Vector Regression training dataset is  0.946907850720563\n",
      "Root Mean Squared Error of Support Vector Regression testing dataset is  0.9434541516812757\n"
     ]
    }
   ],
   "source": [
    "#print('Mean Squared Error of Support Vector Regression of training dataset is ', mean_squared_error(y_train, predict_svr_train))\n",
    "print('Root Mean Squared Error of Support Vector Regression training dataset is ', np.sqrt(mean_squared_error(y_train, predict_svr_train)))\n",
    "#print('Mean Squared Error of Support Vector Regression of testing dataset is ', mean_squared_error(y_test, predict_svr_test))\n",
    "print('Root Mean Squared Error of Support Vector Regression testing dataset is ', np.sqrt(mean_squared_error(y_test, predict_svr_test)))\n",
    "s_train = np.sqrt(mean_squared_error(y_train, predict_svr_train))\n",
    "s_test = np.sqrt(mean_squared_error(y_test, predict_svr_test))"
   ]
  },
  {
   "cell_type": "markdown",
   "metadata": {},
   "source": [
    "### Decision Tree Regression"
   ]
  },
  {
   "cell_type": "code",
   "execution_count": 167,
   "metadata": {},
   "outputs": [],
   "source": [
    "from sklearn.tree import DecisionTreeRegressor\n",
    "DTR = DecisionTreeRegressor(min_impurity_decrease=0.01, random_state=0)\n",
    "DTR.fit(X_train, y_train)\n",
    "predict_DTR_train = DTR.predict(X_train)\n",
    "predict_DTR_test = DTR.predict(X_test)"
   ]
  },
  {
   "cell_type": "code",
   "execution_count": 194,
   "metadata": {},
   "outputs": [
    {
     "name": "stdout",
     "output_type": "stream",
     "text": [
      "Root Mean Squared Error of Decision Tree Regression training dataset is  0.5296301398328538\n",
      "Root Mean Squared Error of Decision Tree Regression testing dataset is  1.5309115767617631\n"
     ]
    }
   ],
   "source": [
    "#print('Mean Squared Error of Decision Tree Regression of training dataset is ', mean_squared_error(y_train, predict_DTR_train))\n",
    "print('Root Mean Squared Error of Decision Tree Regression training dataset is ', np.sqrt(mean_squared_error(y_train, predict_DTR_train)))\n",
    "#print('Mean Squared Error of Decision Tree Regression of testing dataset is ', mean_squared_error(y_test, predict_DTR_test))\n",
    "print('Root Mean Squared Error of Decision Tree Regression testing dataset is ', np.sqrt(mean_squared_error(y_test, predict_DTR_test)))\n",
    "d_train = np.sqrt(mean_squared_error(y_train, predict_DTR_train))\n",
    "d_test = np.sqrt(mean_squared_error(y_test, predict_DTR_test))"
   ]
  },
  {
   "cell_type": "markdown",
   "metadata": {},
   "source": [
    "### Random Forest Regression"
   ]
  },
  {
   "cell_type": "code",
   "execution_count": 169,
   "metadata": {},
   "outputs": [],
   "source": [
    "from sklearn.ensemble import RandomForestRegressor, GradientBoostingRegressor\n",
    "RFR = RandomForestRegressor(n_estimators=500, random_state=0)\n",
    "RFR.fit(X_train, y_train)\n",
    "predict_RFR_train = RFR.predict(X_train)\n",
    "predict_RFR_test = RFR.predict(X_test)"
   ]
  },
  {
   "cell_type": "code",
   "execution_count": 195,
   "metadata": {},
   "outputs": [
    {
     "name": "stdout",
     "output_type": "stream",
     "text": [
      "Root Mean Squared Error of Random Forest Regression training dataset is  0.3857693734462962\n",
      "Root Mean Squared Error of Random Forest Regression testing dataset is  1.1206374098088414\n"
     ]
    }
   ],
   "source": [
    "#print('Mean Squared Error of Random Forest Regression of training dataset is ', mean_squared_error(y_train, predict_RFR_train))\n",
    "print('Root Mean Squared Error of Random Forest Regression training dataset is ', np.sqrt(mean_squared_error(y_train, predict_RFR_train)))\n",
    "#print('Mean Squared Error of Random Forest Regression of testing dataset is ', mean_squared_error(y_test, predict_RFR_test))\n",
    "print('Root Mean Squared Error of Random Forest Regression testing dataset is ', np.sqrt(mean_squared_error(y_test, predict_RFR_test)))\n",
    "r_train = np.sqrt(mean_squared_error(y_train, predict_RFR_train))\n",
    "r_test = np.sqrt(mean_squared_error(y_test, predict_RFR_test))"
   ]
  },
  {
   "cell_type": "markdown",
   "metadata": {},
   "source": [
    "### Gradient Boosting Regression"
   ]
  },
  {
   "cell_type": "code",
   "execution_count": 171,
   "metadata": {},
   "outputs": [],
   "source": [
    "from sklearn.ensemble import GradientBoostingRegressor\n",
    "GBR = GradientBoostingRegressor(max_depth=2, random_state=0)\n",
    "GBR.fit(X_train, y_train)\n",
    "predict_GBR_train = GBR.predict(X_train)\n",
    "predict_GBR_test = GBR.predict(X_test)"
   ]
  },
  {
   "cell_type": "code",
   "execution_count": 189,
   "metadata": {},
   "outputs": [
    {
     "name": "stdout",
     "output_type": "stream",
     "text": [
      "Root Mean Squared Error of Gradient Boosting Regression training dataset is  0.6245796207759879\n",
      "Root Mean Squared Error of Gradient Boosting Regression testing dataset is  1.141054753572618\n"
     ]
    }
   ],
   "source": [
    "#print('Mean Squared Error of Gradient Boosting Regression of training dataset is ', mean_squared_error(y_train, predict_GBR_train))\n",
    "print('Root Mean Squared Error of Gradient Boosting Regression training dataset is ', np.sqrt(mean_squared_error(y_train, predict_GBR_train)))\n",
    "#print('Mean Squared Error of Gradient Boosting Regression of testing dataset is ', mean_squared_error(y_test, predict_GBR_test))\n",
    "print('Root Mean Squared Error of Gradient Boosting Regression testing dataset is ', np.sqrt(mean_squared_error(y_test, predict_GBR_test)))\n",
    "g_train = np.sqrt(mean_squared_error(y_train, predict_GBR_train))\n",
    "g_test = np.sqrt(mean_squared_error(y_test, predict_GBR_test))\n",
    "#RMSE_test > RMSE_train Overfitting\n",
    "#RMSE_test < RMSE_train Underfitting"
   ]
  },
  {
   "cell_type": "markdown",
   "metadata": {},
   "source": [
    "### Logistic Regression"
   ]
  },
  {
   "cell_type": "code",
   "execution_count": 173,
   "metadata": {},
   "outputs": [],
   "source": [
    "from sklearn.linear_model import LogisticRegression\n",
    "lor = GradientBoostingRegressor()\n",
    "lor.fit(X_train, y_train)\n",
    "predict_lor_train = lor.predict(X_train)\n",
    "predict_lor_test = lor.predict(X_test)"
   ]
  },
  {
   "cell_type": "code",
   "execution_count": 198,
   "metadata": {},
   "outputs": [],
   "source": [
    "#print('Mean Squared Error of Logistic Regression of training dataset is ', mean_squared_error(y_train, predict_lor_train))\n",
    "#print('Root Mean Squared Error of Logistic Regression training dataset is ', np.sqrt(mean_squared_error(y_train, predict_lor_train)))\n",
    "#print('Mean Squared Error of Logistic Regression of testing dataset is ', mean_squared_error(y_test, predict_lor_test))\n",
    "#print('Root Mean Squared Error of Logistic Regression testing dataset is ', np.sqrt(mean_squared_error(y_test, predict_lor_test)))\n",
    "lr_test = np.sqrt(mean_squared_error(y_test, predict_lor_test))\n",
    "lr_train = np.sqrt(mean_squared_error(y_train, predict_lor_train))\n",
    "#RMSE_test > RMSE_train Overfitting\n",
    "#RMSE_test < RMSE_train Underfitting"
   ]
  },
  {
   "cell_type": "code",
   "execution_count": 215,
   "metadata": {},
   "outputs": [],
   "source": [
    "#DataFrame with model RMSE resultant Value\n",
    "model = pd.DataFrame({'Train_RMSE':[l_train, s_train, d_train, r_test, g_train, lr_train], \n",
    "              'Test_RMSE':[l_test, s_test, d_test, r_test, g_test, lr_test]},\n",
    "             index=['Linear R', 'SVR', 'DT', 'RF', 'GBR', 'Logistic R']).reset_index()"
   ]
  },
  {
   "cell_type": "code",
   "execution_count": 220,
   "metadata": {},
   "outputs": [],
   "source": [
    "model = model.rename(columns={'index' : 'Model Type'})"
   ]
  },
  {
   "cell_type": "code",
   "execution_count": 221,
   "metadata": {},
   "outputs": [
    {
     "data": {
      "text/html": [
       "<div>\n",
       "<style scoped>\n",
       "    .dataframe tbody tr th:only-of-type {\n",
       "        vertical-align: middle;\n",
       "    }\n",
       "\n",
       "    .dataframe tbody tr th {\n",
       "        vertical-align: top;\n",
       "    }\n",
       "\n",
       "    .dataframe thead th {\n",
       "        text-align: right;\n",
       "    }\n",
       "</style>\n",
       "<table border=\"1\" class=\"dataframe\">\n",
       "  <thead>\n",
       "    <tr style=\"text-align: right;\">\n",
       "      <th></th>\n",
       "      <th>Model Type</th>\n",
       "      <th>Train_RMSE</th>\n",
       "      <th>Test_RMSE</th>\n",
       "    </tr>\n",
       "  </thead>\n",
       "  <tbody>\n",
       "    <tr>\n",
       "      <th>0</th>\n",
       "      <td>Linear R</td>\n",
       "      <td>0.850060</td>\n",
       "      <td>9.424538e+12</td>\n",
       "    </tr>\n",
       "    <tr>\n",
       "      <th>1</th>\n",
       "      <td>SVR</td>\n",
       "      <td>0.946908</td>\n",
       "      <td>9.434542e-01</td>\n",
       "    </tr>\n",
       "    <tr>\n",
       "      <th>2</th>\n",
       "      <td>DT</td>\n",
       "      <td>0.529630</td>\n",
       "      <td>1.530912e+00</td>\n",
       "    </tr>\n",
       "    <tr>\n",
       "      <th>3</th>\n",
       "      <td>RF</td>\n",
       "      <td>1.120637</td>\n",
       "      <td>1.120637e+00</td>\n",
       "    </tr>\n",
       "    <tr>\n",
       "      <th>4</th>\n",
       "      <td>GBR</td>\n",
       "      <td>0.624580</td>\n",
       "      <td>1.141055e+00</td>\n",
       "    </tr>\n",
       "    <tr>\n",
       "      <th>5</th>\n",
       "      <td>Logistic R</td>\n",
       "      <td>0.440765</td>\n",
       "      <td>1.262255e+00</td>\n",
       "    </tr>\n",
       "  </tbody>\n",
       "</table>\n",
       "</div>"
      ],
      "text/plain": [
       "   Model Type  Train_RMSE     Test_RMSE\n",
       "0    Linear R    0.850060  9.424538e+12\n",
       "1         SVR    0.946908  9.434542e-01\n",
       "2          DT    0.529630  1.530912e+00\n",
       "3          RF    1.120637  1.120637e+00\n",
       "4         GBR    0.624580  1.141055e+00\n",
       "5  Logistic R    0.440765  1.262255e+00"
      ]
     },
     "execution_count": 221,
     "metadata": {},
     "output_type": "execute_result"
    }
   ],
   "source": [
    "model"
   ]
  },
  {
   "cell_type": "code",
   "execution_count": 209,
   "metadata": {},
   "outputs": [],
   "source": [
    "model.to_csv('Model_result.pdf', header=True, sep=',')"
   ]
  },
  {
   "cell_type": "code",
   "execution_count": null,
   "metadata": {},
   "outputs": [],
   "source": [
    "##################################### END ##############################################"
   ]
  }
 ],
 "metadata": {
  "kernelspec": {
   "display_name": "Python 3",
   "language": "python",
   "name": "python3"
  },
  "language_info": {
   "codemirror_mode": {
    "name": "ipython",
    "version": 3
   },
   "file_extension": ".py",
   "mimetype": "text/x-python",
   "name": "python",
   "nbconvert_exporter": "python",
   "pygments_lexer": "ipython3",
   "version": "3.6.8"
  }
 },
 "nbformat": 4,
 "nbformat_minor": 2
}
